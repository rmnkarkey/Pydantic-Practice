{
 "cells": [
  {
   "cell_type": "code",
   "execution_count": 75,
   "metadata": {},
   "outputs": [
    {
     "name": "stdout",
     "output_type": "stream",
     "text": [
      "model_number=22222 model_name='Tesla'\n"
     ]
    }
   ],
   "source": [
    "from pydantic import BaseModel, ValidationError, validator\n",
    "\n",
    "class Gadget(BaseModel):\n",
    "    model_number: int\n",
    "    model_name: str\n",
    "        \n",
    "    @validator('model_number')    \n",
    "    def model_number_validator(cls,m_num) -> int:\n",
    "        if len(str(m_num)) < 5:\n",
    "            raise ValidationError\n",
    "            \n",
    "        return m_num\n",
    "\n",
    "try:\n",
    "    gadget_obj = Gadget(model_number=22222,model_name='Tesla')\n",
    "    print(gadget_obj)\n",
    "except ValidationError as e:\n",
    "    print(e.json())\n",
    "    "
   ]
  },
  {
   "cell_type": "code",
   "execution_count": 78,
   "metadata": {},
   "outputs": [
    {
     "name": "stdout",
     "output_type": "stream",
     "text": [
      "[\n",
      "  {\n",
      "    \"loc\": [\n",
      "      \"names\"\n",
      "    ],\n",
      "    \"msg\": \"__init__() takes exactly 3 positional arguments (1 given)\",\n",
      "    \"type\": \"type_error\"\n",
      "  }\n",
      "]\n"
     ]
    }
   ],
   "source": [
    "from typing import List\n",
    "\n",
    "class Cars(BaseModel):\n",
    "    names: List[str]\n",
    "        \n",
    "        \n",
    "class Tesla(Cars):\n",
    "    @validator('names',each_item = False,pre=True,always=True)\n",
    "    def names_checker(cls,car_name) -> List[str]:\n",
    "        for i in car_name:\n",
    "            if i.endswith('o') is True:\n",
    "                raise ValidationError\n",
    "        \n",
    "        return car_name\n",
    "\n",
    "try:\n",
    "    tesla_obj = Tesla(names=['jlk','asdf','adsf','saao'])\n",
    "    print(tesla_obj)\n",
    "except ValidationError as e:\n",
    "    print(e.json())\n"
   ]
  },
  {
   "cell_type": "code",
   "execution_count": 85,
   "metadata": {},
   "outputs": [
    {
     "name": "stdout",
     "output_type": "stream",
     "text": [
      "Raman Karki\n"
     ]
    }
   ],
   "source": [
    "#resuable validators\n",
    "\n",
    "def normalize(name: str) -> str:\n",
    "    return ' '.join((word.capitalize()) for word in name.split(' '))\n",
    "\n",
    "class Developers(BaseModel):\n",
    "    name: str\n",
    "        \n",
    "    name_normalize = validator('name')(normalize)\n",
    "    \n",
    "developer_obj = Developers(name='raman karki')\n",
    "\n",
    "print(developer_obj.name)    \n",
    "    "
   ]
  },
  {
   "cell_type": "code",
   "execution_count": 185,
   "metadata": {},
   "outputs": [
    {
     "name": "stdout",
     "output_type": "stream",
     "text": [
      "h\n"
     ]
    }
   ],
   "source": [
    "#custom validation\n",
    "\n",
    "from pydantic.dataclasses import dataclass\n",
    "\n",
    "class CustomResponse:\n",
    "    max_anystr_length = 1\n",
    "\n",
    "@dataclass(config=CustomResponse)\n",
    "class Cars():\n",
    "    model_name: str\n",
    "    \n",
    "try:\n",
    "    car_obj = Cars(model_name= 'h')\n",
    "    print(car_obj.model_name)\n",
    "except ValidationError as e:\n",
    "    print(e.json())\n",
    "    "
   ]
  },
  {
   "cell_type": "code",
   "execution_count": 186,
   "metadata": {},
   "outputs": [
    {
     "name": "stdout",
     "output_type": "stream",
     "text": [
      "two_id=12 two_name='o' one=One(one_id=88)\n"
     ]
    }
   ],
   "source": [
    "class One(BaseModel):\n",
    "    one_id: int\n",
    "\n",
    "class Two(BaseModel):\n",
    "    two_id: int\n",
    "    two_name: str\n",
    "    one: One\n",
    "\n",
    "\n",
    "two_obj = Two(two_id=12,two_name=\"o\",one={'one_id':88})\n",
    "print(two_obj)"
   ]
  },
  {
   "cell_type": "code",
   "execution_count": 205,
   "metadata": {},
   "outputs": [
    {
     "name": "stdout",
     "output_type": "stream",
     "text": [
      "Tables(table_id=1, table_name='tablee')\n"
     ]
    }
   ],
   "source": [
    "@dataclass\n",
    "class Tables:\n",
    "    table_id: int\n",
    "    table_name: str\n",
    "    \n",
    "    @validator('table_id')\n",
    "    def table_id_validator(cls,t_id) -> int:\n",
    "        if t_id is None:\n",
    "            raise ValidationError\n",
    "        return t_id\n",
    "\n",
    "    \n",
    "    \n",
    "table_obj = Tables(table_id=1,table_name=\"tablee\")\n",
    "print(table_obj)"
   ]
  },
  {
   "cell_type": "code",
   "execution_count": null,
   "metadata": {},
   "outputs": [],
   "source": []
  }
 ],
 "metadata": {
  "kernelspec": {
   "display_name": "Python 3",
   "language": "python",
   "name": "python3"
  },
  "language_info": {
   "codemirror_mode": {
    "name": "ipython",
    "version": 3
   },
   "file_extension": ".py",
   "mimetype": "text/x-python",
   "name": "python",
   "nbconvert_exporter": "python",
   "pygments_lexer": "ipython3",
   "version": "3.8.5"
  }
 },
 "nbformat": 4,
 "nbformat_minor": 4
}
